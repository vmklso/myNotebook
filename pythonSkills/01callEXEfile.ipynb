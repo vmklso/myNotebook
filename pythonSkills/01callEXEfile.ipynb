{
 "cells": [
  {
   "attachments": {},
   "cell_type": "markdown",
   "metadata": {},
   "source": [
    "## this is an example of how the call a exe file in windows with pyhont\n",
    "we should first import subprocess\n",
    "the stytax should be like this\n",
    "notice: if the exefile need to read from a file ,we need to include the file path ,here we use 'chdir'"
   ]
  },
  {
   "cell_type": "code",
   "execution_count": null,
   "metadata": {},
   "outputs": [],
   "source": [
    "import os\n",
    "import subprocess\n",
    "\n",
    "os.chdir(\"path/to/your/executable/folder\")\n",
    "subprocess.call(\"executable.exe\")\n"
   ]
  },
  {
   "cell_type": "code",
   "execution_count": null,
   "metadata": {},
   "outputs": [],
   "source": [
    "import subprocess\n",
    "\n",
    "# Replace \"path/to/your/executable.exe\" with the actual path to your executable file\n",
    "args = [\"path/to/your/executable.exe\", \"--arg1\", \"value1\", \"--arg2\", \"value2\"]\n",
    "subprocess.call(args)\n"
   ]
  },
  {
   "attachments": {},
   "cell_type": "markdown",
   "metadata": {},
   "source": [
    "the above is a example \n",
    "\n",
    "and below is what I write"
   ]
  },
  {
   "cell_type": "code",
   "execution_count": null,
   "metadata": {},
   "outputs": [],
   "source": [
    "import subprocess\n",
    "import os\n",
    "import numpy as np\n",
    "\n",
    "parameters = [\n",
    "    2,  \n",
    "    2,  \n",
    "    1,  # \n",
    "    0,  \n",
    "    90,  #\n",
    "    1,  \n",
    "    90,  # i\n",
    "    90,  #\n",
    "    1,  # \n",
    "    45, #\n",
    "    90,  # \n",
    "    44,  #\n",
    "    'D:\\myModels\\\\2a.stl' \n",
    "]\n",
    "\n",
    "# this below is the set the parameters for the executable file\n",
    "executablefilePath = 'D:\\mycode\\\\'\n",
    "executablefileName = '.exe'\n",
    "with open('D:\\.txt', 'w') as f:\n",
    "    for i in parameters:\n",
    "        f.write(f\"{i}\\n\")\n",
    "os.chdir(executablefilePath)\n",
    "subprocess.call([executablefilePath + executablefileName])\n",
    "\n",
    "\n",
    "S_data = np.loadtxt(executablefilePath + 'rcs.txt')\n",
    "print(S_data)"
   ]
  }
 ],
 "metadata": {
  "language_info": {
   "name": "python"
  },
  "orig_nbformat": 4
 },
 "nbformat": 4,
 "nbformat_minor": 2
}
